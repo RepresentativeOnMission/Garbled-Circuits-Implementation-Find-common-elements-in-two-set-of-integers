{
 "cells": [
  {
   "cell_type": "code",
   "execution_count": 1,
   "id": "f2eb58ec-2031-4681-b834-2492bbd205aa",
   "metadata": {},
   "outputs": [],
   "source": [
    "#returns the list of values that A wants to compare\n",
    "def read_alice_input_file():\n",
    "    #input file format\n",
    "    #v1 v2 v3 ... vn, where vi is a k bit integer, with k<=4\n",
    "    f = open(\"input_alice.txt\", \"r\")\n",
    "    #read \"v1 v2 v3\" and turn it into [\"v1\",\"v2\",\"v3\"]\n",
    "    result = f.read().split()\n",
    "    f.close()\n",
    "    return result\n",
    "s = read_alice_input_file()"
   ]
  },
  {
   "cell_type": "code",
   "execution_count": 2,
   "id": "702407e4-226a-4352-bad8-991aec1e59c9",
   "metadata": {},
   "outputs": [
    {
     "data": {
      "text/plain": [
       "['0', '1', '3', '15']"
      ]
     },
     "execution_count": 2,
     "metadata": {},
     "output_type": "execute_result"
    }
   ],
   "source": [
    "s"
   ]
  },
  {
   "cell_type": "code",
   "execution_count": 3,
   "id": "e01a86ce-1e4a-4677-b25a-35802ab33d86",
   "metadata": {},
   "outputs": [
    {
     "data": {
      "text/plain": [
       "[[0, 0, 0, 0], [0, 0, 0, 1], [0, 0, 1, 1], [1, 1, 1, 1]]"
      ]
     },
     "execution_count": 3,
     "metadata": {},
     "output_type": "execute_result"
    }
   ],
   "source": [
    "def convert_value_to_4_bit_value(value):\n",
    "    result = []\n",
    "    for i in range(4):\n",
    "        if(value - 2**(3-i) >= 0):\n",
    "            result.append(1)\n",
    "            value = value - 2**(3-i)\n",
    "        else:\n",
    "            result.append(0)\n",
    "    return result\n",
    "\n",
    "def convert_input_list_to_4bit_list(input_list):\n",
    "    result = []\n",
    "    for value in input_list:\n",
    "        result.append(convert_value_to_4_bit_value(int(value)))\n",
    "    return result\n",
    "\n",
    "convert_input_list_to_4bit_list(s)"
   ]
  },
  {
   "cell_type": "code",
   "execution_count": 4,
   "id": "2bc49dbe-4a1f-4a1a-9221-f6a6328a6848",
   "metadata": {},
   "outputs": [
    {
     "ename": "NameError",
     "evalue": "name 'HOST' is not defined",
     "output_type": "error",
     "traceback": [
      "\u001b[1;31m---------------------------------------------------------------------------\u001b[0m",
      "\u001b[1;31mNameError\u001b[0m                                 Traceback (most recent call last)",
      "Cell \u001b[1;32mIn[4], line 6\u001b[0m\n\u001b[0;32m      1\u001b[0m \u001b[38;5;28;01mimport\u001b[39;00m \u001b[38;5;21;01msocket\u001b[39;00m\n\u001b[0;32m      5\u001b[0m \u001b[38;5;28;01mwith\u001b[39;00m socket\u001b[38;5;241m.\u001b[39msocket(socket\u001b[38;5;241m.\u001b[39mAF_INET, socket\u001b[38;5;241m.\u001b[39mSOCK_STREAM) \u001b[38;5;28;01mas\u001b[39;00m s:\n\u001b[1;32m----> 6\u001b[0m     s\u001b[38;5;241m.\u001b[39mbind((\u001b[43mHOST\u001b[49m, PORT))\n\u001b[0;32m      7\u001b[0m     s\u001b[38;5;241m.\u001b[39mlisten()\n\u001b[0;32m      8\u001b[0m     conn, addr \u001b[38;5;241m=\u001b[39m s\u001b[38;5;241m.\u001b[39maccept()\n",
      "\u001b[1;31mNameError\u001b[0m: name 'HOST' is not defined"
     ]
    }
   ],
   "source": [
    "import socket\n",
    "\n",
    "\n",
    "\n",
    "with socket.socket(socket.AF_INET, socket.SOCK_STREAM) as s:\n",
    "    s.bind((HOST, PORT))\n",
    "    s.listen()\n",
    "    conn, addr = s.accept()\n",
    "    with conn:\n",
    "        print(f\"Connected by {addr}\")\n",
    "        data = conn.recv(1024)\n",
    "        print(int.from_bytes(data,'big'))"
   ]
  },
  {
   "cell_type": "code",
   "execution_count": 16,
   "id": "ddabfb06-7f0e-40b9-a18f-c082cda4c1a2",
   "metadata": {},
   "outputs": [],
   "source": [
    "import socket\n",
    "class socket_connection_single_value:\n",
    "    HOST = \"127.0.0.1\"  # Standard loopback interface address (localhost)\n",
    "    \n",
    "    def __init__(self, PORT):\n",
    "        self.PORT = PORT\n",
    "    \n",
    "    def send_value(self,value):\n",
    "        with socket.socket(socket.AF_INET, socket.SOCK_STREAM) as s:\n",
    "            s.connect((self.HOST, self.PORT))\n",
    "            s.sendall(value.to_bytes(32,'big'))\n",
    "        \n",
    "    def receive_value(self):\n",
    "        data = 0\n",
    "        with socket.socket(socket.AF_INET, socket.SOCK_STREAM) as s:\n",
    "            s.bind((self.HOST, self.PORT))\n",
    "            s.listen()\n",
    "            conn, addr = s.accept()\n",
    "            with conn:\n",
    "                print(f\"Connected by {addr}\")\n",
    "                data = conn.recv(1024)\n",
    "        return int.from_bytes(data,'big')\n",
    "        "
   ]
  },
  {
   "cell_type": "code",
   "execution_count": 17,
   "id": "12fc502a-ff0c-4d14-b977-a5538e14d87c",
   "metadata": {},
   "outputs": [],
   "source": [
    "sc_a_to_b = socket_connection_single_value(65432)\n",
    "sc_b_to_a = socket_connection_single_value(65433)"
   ]
  },
  {
   "cell_type": "code",
   "execution_count": 18,
   "id": "0c6c2664-d8a6-4408-b291-47e1cd748acd",
   "metadata": {},
   "outputs": [
    {
     "name": "stdout",
     "output_type": "stream",
     "text": [
      "Connected by ('127.0.0.1', 59466)\n",
      "4\n"
     ]
    }
   ],
   "source": [
    "print(sc_a_to_b.receive_value())\n",
    "sc_b_to_a.send_value(6)"
   ]
  },
  {
   "cell_type": "code",
   "execution_count": null,
   "id": "4a482367-c733-45ac-a38a-fc12e89f7313",
   "metadata": {},
   "outputs": [],
   "source": []
  }
 ],
 "metadata": {
  "kernelspec": {
   "display_name": "Python 3 (ipykernel)",
   "language": "python",
   "name": "python3"
  },
  "language_info": {
   "codemirror_mode": {
    "name": "ipython",
    "version": 3
   },
   "file_extension": ".py",
   "mimetype": "text/x-python",
   "name": "python",
   "nbconvert_exporter": "python",
   "pygments_lexer": "ipython3",
   "version": "3.10.9"
  }
 },
 "nbformat": 4,
 "nbformat_minor": 5
}
