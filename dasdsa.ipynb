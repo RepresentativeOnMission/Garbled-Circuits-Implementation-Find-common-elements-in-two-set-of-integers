{
 "cells": [
  {
   "cell_type": "code",
   "execution_count": 11,
   "id": "e7cc38bc-b164-4722-853a-34a65d3a1147",
   "metadata": {},
   "outputs": [],
   "source": [
    "import socket\n",
    "\n",
    "HOST = \"127.0.0.1\"  # The server's hostname or IP address\n",
    "PORT = 65432  # The port used by the server\n",
    "n=3\n",
    "with socket.socket(socket.AF_INET, socket.SOCK_STREAM) as s:\n",
    "    s.connect((HOST, PORT))\n",
    "    s.sendall(n.to_bytes(32,'big'))\n",
    "    #data = s.recv(1024)"
   ]
  },
  {
   "cell_type": "code",
   "execution_count": 13,
   "id": "04ebb4f5-6bd4-4940-acaf-6aa473f62a56",
   "metadata": {},
   "outputs": [],
   "source": [
    "import socket\n",
    "class socket_connection_single_value:\n",
    "    HOST = \"127.0.0.1\"  # Standard loopback interface address (localhost)\n",
    "    \n",
    "    def __init__(self, PORT):\n",
    "        self.PORT = PORT\n",
    "    \n",
    "    def send_value(self,value):\n",
    "        with socket.socket(socket.AF_INET, socket.SOCK_STREAM) as s:\n",
    "            s.connect((self.HOST, self.PORT))\n",
    "            s.sendall(value.to_bytes(32,'big'))\n",
    "        \n",
    "    def receive_value(self):\n",
    "        data = 0\n",
    "        with socket.socket(socket.AF_INET, socket.SOCK_STREAM) as s:\n",
    "            s.bind((self.HOST, self.PORT))\n",
    "            s.listen()\n",
    "            conn, addr = s.accept()\n",
    "            with conn:\n",
    "                print(f\"Connected by {addr}\")\n",
    "                data = conn.recv(1024)\n",
    "        return int.from_bytes(data,'big')\n",
    "        "
   ]
  },
  {
   "cell_type": "code",
   "execution_count": 14,
   "id": "b67389a6-ee5c-4d5b-9994-1a1b8ff64a90",
   "metadata": {},
   "outputs": [],
   "source": [
    "sc_a_to_b = socket_connection_single_value(65432)\n",
    "sc_b_to_a = socket_connection_single_value(65433)"
   ]
  },
  {
   "cell_type": "code",
   "execution_count": 15,
   "id": "8c480d9a-7f9a-4de5-907a-d4f78d6358c6",
   "metadata": {},
   "outputs": [
    {
     "name": "stdout",
     "output_type": "stream",
     "text": [
      "Connected by ('127.0.0.1', 59467)\n"
     ]
    },
    {
     "data": {
      "text/plain": [
       "6"
      ]
     },
     "execution_count": 15,
     "metadata": {},
     "output_type": "execute_result"
    }
   ],
   "source": [
    "sc_a_to_b.send_value(4)\n",
    "sc_b_to_a.receive_value()"
   ]
  },
  {
   "cell_type": "code",
   "execution_count": null,
   "id": "33c0b80b-6c08-4ab9-8219-040550941107",
   "metadata": {},
   "outputs": [],
   "source": []
  }
 ],
 "metadata": {
  "kernelspec": {
   "display_name": "Python 3 (ipykernel)",
   "language": "python",
   "name": "python3"
  },
  "language_info": {
   "codemirror_mode": {
    "name": "ipython",
    "version": 3
   },
   "file_extension": ".py",
   "mimetype": "text/x-python",
   "name": "python",
   "nbconvert_exporter": "python",
   "pygments_lexer": "ipython3",
   "version": "3.10.9"
  }
 },
 "nbformat": 4,
 "nbformat_minor": 5
}
